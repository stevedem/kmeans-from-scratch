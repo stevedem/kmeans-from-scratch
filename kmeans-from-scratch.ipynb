{
 "cells": [
  {
   "cell_type": "markdown",
   "metadata": {},
   "source": [
    "# k-means from scratch\n",
    "\n",
    "In this walkthrough, we will learn how to implement the k-means clustering algorithm from scratch using Python.\n",
    "\n",
    "#### Here are the dependencies & requirements for running the code in this notebook:\n",
    " - Python 3.6\n",
    " - `pandas`\n",
    " - `numpy`\n",
    " - `sci-kit learn`\n",
    " - `matplotlib`\n",
    " - `seaborn`\n",
    " \n",
    "#### Here is a high-level overview of what we'll cover tonight:\n",
    "1. Introduction & Background\n",
    "2. How do we train a k-means model?\n",
    "3. How do we use and evaluate our model? Show me pretty pictures.\n",
    "4. How does our \"from-scratch\" implementation compare to a standard ML library?"
   ]
  },
  {
   "cell_type": "markdown",
   "metadata": {},
   "source": [
    "## 1. Introduction & Background\n",
    "The k-means clustering algorithm is an unsupervised machine learning method that is useful for identifying similar groups in your dataset.\n",
    "\n",
    "The $ k $ refers to the number of partitions (or clusters) we aim to separate our data into.\n",
    "\n",
    "The $ means $ refers to the fact that each data point will belong a specific cluster with the nearest mean. Said differently, each of the clusters will have a mean that is calculated using the points belonging to that cluster. Individual points will be assigned to a specific cluster based upon the distance of the individual point to the cluster mean. Whichever distance is the smallest, the individual data point will be assigned to that cluster."
   ]
  },
  {
   "cell_type": "markdown",
   "metadata": {},
   "source": [
    "## 2. How do we train a k-means model?\n",
    "The most common implementation uses an **iterative refinement technique** which means that we will *assign* each of our data points to a cluster with the nearest mean, and then *update* the mean of each cluster.\n",
    "\n",
    "The mean of each cluster is what we call a **representative point** (or centroid). These centroids will change in each step of our iterative refinement technique, until the centroids no longer change (i.e., converge). A common approach for initializing the centroids is to just pick $ k $ points randomly.\n",
    "\n",
    "OK, that sounds great. But I [still don't get it.](https://www.naftaliharris.com/blog/visualizing-k-means-clustering/)\n",
    "\n",
    "*Why haven't you shown me any code yet?*"
   ]
  },
  {
   "cell_type": "markdown",
   "metadata": {},
   "source": [
    "### Let's get some data\n",
    "We'll be using the [infamous iris dataset](https://archive.ics.uci.edu/ml/datasets/iris) which is commonly used for testing out machine learning tasks. \n",
    "\n",
    "*Sidebar/Spoiler: The iris dataset is commonly used for classification - one of my goals of this walkthrough is to differentiate clustering from classification.*\n",
    "\n",
    "It contains 150 records and four features, with 50 records belonging to each of the three classes."
   ]
  },
  {
   "cell_type": "code",
   "execution_count": 120,
   "metadata": {
    "collapsed": false
   },
   "outputs": [],
   "source": [
    "import pandas as pd\n",
    "import numpy as np\n",
    "import os\n",
    "import time\n",
    "import math\n",
    "import warnings # current version of seaborn generates a bunch of warnings that we'll ignore\n",
    "import seaborn as sns\n",
    "import matplotlib.pyplot as plt\n",
    "from helper import silhouette_coefficient\n",
    "\n",
    "warnings.filterwarnings(\"ignore\")\n",
    "sns.set(style=\"white\", color_codes=True)\n",
    "%matplotlib inline\n",
    "\n",
    "def get_iris_data(file_name):\n",
    "    \"\"\"Simple function to pre-process the iris dataset.\"\"\"\n",
    "\n",
    "    # Specify column names and read in data\n",
    "    i_names = ['s_len', 's_wid', 'p_len', 'p_wid', 'species']\n",
    "    iris = pd.read_table(os.path.join(os.getcwd(), file_name), header=None, sep=',', names=i_names)\n",
    "\n",
    "    return iris"
   ]
  },
  {
   "cell_type": "code",
   "execution_count": 101,
   "metadata": {
    "collapsed": false
   },
   "outputs": [
    {
     "data": {
      "text/html": [
       "<div>\n",
       "<style scoped>\n",
       "    .dataframe tbody tr th:only-of-type {\n",
       "        vertical-align: middle;\n",
       "    }\n",
       "\n",
       "    .dataframe tbody tr th {\n",
       "        vertical-align: top;\n",
       "    }\n",
       "\n",
       "    .dataframe thead th {\n",
       "        text-align: right;\n",
       "    }\n",
       "</style>\n",
       "<table border=\"1\" class=\"dataframe\">\n",
       "  <thead>\n",
       "    <tr style=\"text-align: right;\">\n",
       "      <th></th>\n",
       "      <th>s_len</th>\n",
       "      <th>s_wid</th>\n",
       "      <th>p_len</th>\n",
       "      <th>p_wid</th>\n",
       "      <th>species</th>\n",
       "    </tr>\n",
       "  </thead>\n",
       "  <tbody>\n",
       "    <tr>\n",
       "      <th>0</th>\n",
       "      <td>5.1</td>\n",
       "      <td>3.5</td>\n",
       "      <td>1.4</td>\n",
       "      <td>0.2</td>\n",
       "      <td>Iris-setosa</td>\n",
       "    </tr>\n",
       "    <tr>\n",
       "      <th>1</th>\n",
       "      <td>4.9</td>\n",
       "      <td>3.0</td>\n",
       "      <td>1.4</td>\n",
       "      <td>0.2</td>\n",
       "      <td>Iris-setosa</td>\n",
       "    </tr>\n",
       "    <tr>\n",
       "      <th>2</th>\n",
       "      <td>4.7</td>\n",
       "      <td>3.2</td>\n",
       "      <td>1.3</td>\n",
       "      <td>0.2</td>\n",
       "      <td>Iris-setosa</td>\n",
       "    </tr>\n",
       "    <tr>\n",
       "      <th>3</th>\n",
       "      <td>4.6</td>\n",
       "      <td>3.1</td>\n",
       "      <td>1.5</td>\n",
       "      <td>0.2</td>\n",
       "      <td>Iris-setosa</td>\n",
       "    </tr>\n",
       "    <tr>\n",
       "      <th>4</th>\n",
       "      <td>5.0</td>\n",
       "      <td>3.6</td>\n",
       "      <td>1.4</td>\n",
       "      <td>0.2</td>\n",
       "      <td>Iris-setosa</td>\n",
       "    </tr>\n",
       "  </tbody>\n",
       "</table>\n",
       "</div>"
      ],
      "text/plain": [
       "   s_len  s_wid  p_len  p_wid      species\n",
       "0    5.1    3.5    1.4    0.2  Iris-setosa\n",
       "1    4.9    3.0    1.4    0.2  Iris-setosa\n",
       "2    4.7    3.2    1.3    0.2  Iris-setosa\n",
       "3    4.6    3.1    1.5    0.2  Iris-setosa\n",
       "4    5.0    3.6    1.4    0.2  Iris-setosa"
      ]
     },
     "execution_count": 101,
     "metadata": {},
     "output_type": "execute_result"
    }
   ],
   "source": [
    "df = get_iris_data('iris.data')\n",
    "df.head()"
   ]
  },
  {
   "cell_type": "code",
   "execution_count": 102,
   "metadata": {
    "collapsed": false,
    "scrolled": true
   },
   "outputs": [
    {
     "name": "stdout",
     "output_type": "stream",
     "text": [
      "The data set contains 150 records and 5 features.\n"
     ]
    }
   ],
   "source": [
    "print(\"The data set contains {} records and {} features.\".format(df.shape[0], df.shape[1]))"
   ]
  },
  {
   "cell_type": "code",
   "execution_count": 103,
   "metadata": {
    "collapsed": false,
    "scrolled": true
   },
   "outputs": [
    {
     "data": {
      "text/plain": [
       "Iris-setosa        50\n",
       "Iris-versicolor    50\n",
       "Iris-virginica     50\n",
       "Name: species, dtype: int64"
      ]
     },
     "execution_count": 103,
     "metadata": {},
     "output_type": "execute_result"
    }
   ],
   "source": [
    "df['species'].value_counts()"
   ]
  },
  {
   "cell_type": "markdown",
   "metadata": {},
   "source": [
    "### Let's check out the distribution of two features among the three classes.\n",
    "\n",
    "We can test out different feature combinations to see how the values are distributed based upon the classes."
   ]
  },
  {
   "cell_type": "code",
   "execution_count": 54,
   "metadata": {
    "collapsed": false,
    "scrolled": true
   },
   "outputs": [
    {
     "data": {
      "text/plain": [
       "<seaborn.axisgrid.FacetGrid at 0x154cf19bc88>"
      ]
     },
     "execution_count": 54,
     "metadata": {},
     "output_type": "execute_result"
    },
    {
     "data": {
      "image/png": "[encoded data removed]",
      "text/plain": [
       "<Figure size 455.875x360 with 1 Axes>"
      ]
     },
     "metadata": {},
     "output_type": "display_data"
    }
   ],
   "source": [
    "sns.FacetGrid(df, hue=\"species\", size=5) \\\n",
    "   .map(plt.scatter, \"s_len\", \"s_wid\") \\\n",
    "   .add_legend()"
   ]
  },
  {
   "cell_type": "markdown",
   "metadata": {},
   "source": [
    "We can also just look at one of the features to get a better sense of a feature's distribution."
   ]
  },
  {
   "cell_type": "code",
   "execution_count": 82,
   "metadata": {
    "collapsed": false
   },
   "outputs": [
    {
     "data": {
      "text/plain": [
       "<matplotlib.axes._subplots.AxesSubplot at 0x154d05d6160>"
      ]
     },
     "execution_count": 82,
     "metadata": {},
     "output_type": "execute_result"
    },
    {
     "data": {
      "image/png": "[encoded data removed]",
      "text/plain": [
       "<Figure size 432x288 with 1 Axes>"
      ]
     },
     "metadata": {},
     "output_type": "display_data"
    }
   ],
   "source": [
    "sns.boxplot(x=\"species\", y=\"p_wid\", data=df)"
   ]
  },
  {
   "cell_type": "markdown",
   "metadata": {},
   "source": [
    "### Let's get down to business\n",
    "\n",
    "Now we're *finally* going to implement our iterative refinement technique. \n",
    "\n",
    "At the highest level, here's the pseudocode to do so:\n",
    "\n",
    "    Initialize centroids\n",
    "    \n",
    "    Enter loop\n",
    "        \n",
    "        Stash copy of old centroids\n",
    "        Calculate distance from each data point to centroid\n",
    "        Assign each data point to cluster with closest mean\n",
    "        Calculate the new means of each cluster\n",
    "        Update the centroids\n",
    "        \n",
    "    Continue until centroids converge\n",
    "    \n",
    "And the corresponding \"code-code\":"
   ]
  },
  {
   "cell_type": "code",
   "execution_count": 122,
   "metadata": {
    "collapsed": true
   },
   "outputs": [],
   "source": [
    "class KMeans:\n",
    "    \"\"\"The k-means algorithm.\"\"\"\n",
    "\n",
    "    def __init__(self, n_clusters):\n",
    "        self.data = pd.DataFrame()\n",
    "        self.n_clusters = n_clusters\n",
    "        self.centroids = pd.DataFrame()\n",
    "        self.clusters = np.ndarray(1)\n",
    "        self.old_centroids = pd.DataFrame()\n",
    "        self.verbose = False\n",
    "        self.predictions = list()\n",
    "\n",
    "    def train(self, df, verbose):\n",
    "        self.verbose = verbose\n",
    "        self.data = df.copy(deep=True)\n",
    "        self.clusters = np.zeros(len(self.data))\n",
    "\n",
    "        if 'species' in self.data.columns:\n",
    "            self.data.drop('species', axis=1, inplace=True)\n",
    "\n",
    "        # Randomly initialize centroids\n",
    "        unique_rows = self.data.drop_duplicates()\n",
    "        unique_rows.reset_index(drop=True, inplace=True)\n",
    "        self.centroids = unique_rows.sample(n=self.n_clusters)\n",
    "        self.centroids.reset_index(drop=True, inplace=True)\n",
    "\n",
    "        if self.verbose:\n",
    "            print(\"\\nRandomly initiated centroids:\")\n",
    "            print(self.centroids)\n",
    "\n",
    "        # Initialize old centroids as a matrix of all 0's\n",
    "        self.old_centroids = pd.DataFrame(np.zeros(shape=(self.n_clusters, self.data.shape[1])),\n",
    "                                          columns=self.data.columns)\n",
    "\n",
    "        # Compare every data point in our dataset to each of the k-means and assign each point to closest cluster\n",
    "        while not self.old_centroids.equals(self.centroids):\n",
    "            \n",
    "            if self.verbose:\n",
    "                time.sleep(3)\n",
    "\n",
    "            # Stash old centroids\n",
    "            self.old_centroids = self.centroids.copy(deep=True)\n",
    "\n",
    "            # Iterate through each data point in the matrix\n",
    "            for row_i in range(0, len(self.data)):\n",
    "                distances = list()\n",
    "                point = self.data.iloc[row_i]\n",
    "\n",
    "                # Calculate the distance between the current point and each of the centroids\n",
    "                for row_c in range(0, len(self.centroids)):\n",
    "                    centroid = self.centroids.iloc[row_c]\n",
    "                    distances.append(np.linalg.norm(point - centroid))\n",
    "\n",
    "                # Assign this data point to a cluster\n",
    "                self.clusters[row_i] = np.argmin(distances)\n",
    "\n",
    "            # For each cluster extract the values which now belong to each cluster and calculate new k-means\n",
    "            for cls in range(0, self.n_clusters):\n",
    "\n",
    "                cls_idx = np.where(self.clusters == cls)[0]\n",
    "\n",
    "                if len(cls_idx) == 0:\n",
    "                    self.centroids.loc[cls] = self.old_centroids.loc[cls]\n",
    "                else:\n",
    "                    # Set the new k-mean to the mean value of the data points within this cluster\n",
    "                    self.centroids.loc[cls] = self.data.iloc[cls_idx].mean()\n",
    "                    \n",
    "                if self.verbose:\n",
    "                    print(\"\\nRow indices belonging to cluster {}: [n={}]\".format(cls, len(cls_idx)))\n",
    "                    print(cls_idx)\n",
    "\n",
    "            if self.verbose:\n",
    "                print(\"\\nOld centroids:\")\n",
    "                print(self.old_centroids)\n",
    "                print(\"New centroids:\")\n",
    "                print(self.centroids)"
   ]
  },
  {
   "cell_type": "code",
   "execution_count": 129,
   "metadata": {
    "collapsed": false,
    "scrolled": true
   },
   "outputs": [],
   "source": [
    "# Run through a simple application\n",
    "number_of_clusters = 2\n",
    "kmeans = KMeans(n_clusters=number_of_clusters)\n",
    "kmeans.train(df=df, verbose=False)"
   ]
  },
  {
   "cell_type": "code",
   "execution_count": 106,
   "metadata": {
    "collapsed": false
   },
   "outputs": [],
   "source": [
    "# Extract the results\n",
    "df['cluster'] = kmeans.clusters\n",
    "centroids = kmeans.centroids\n",
    "centroids['cluster'] = 'centroid'\n",
    "all_df = pd.concat([df, centroids])"
   ]
  },
  {
   "cell_type": "code",
   "execution_count": 107,
   "metadata": {
    "collapsed": false
   },
   "outputs": [
    {
     "data": {
      "text/plain": [
       "<seaborn.axisgrid.FacetGrid at 0x154d1f50668>"
      ]
     },
     "execution_count": 107,
     "metadata": {},
     "output_type": "execute_result"
    },
    {
     "data": {
      "image/png": "[encoded data removed]",
      "text/plain": [
       "<Figure size 431.875x360 with 1 Axes>"
      ]
     },
     "metadata": {},
     "output_type": "display_data"
    }
   ],
   "source": [
    "# Plot the cluster centroids\n",
    "sns.FacetGrid(all_df, hue=\"cluster\", size=5, hue_kws={\"marker\":[\"o\", \"o\", \"o\", \"x\"]}).map(plt.scatter, \"s_len\", \"s_wid\").add_legend()"
   ]
  },
  {
   "cell_type": "code",
   "execution_count": 108,
   "metadata": {
    "collapsed": false
   },
   "outputs": [
    {
     "data": {
      "text/plain": [
       "<seaborn.axisgrid.FacetGrid at 0x154d1fb14e0>"
      ]
     },
     "execution_count": 108,
     "metadata": {},
     "output_type": "execute_result"
    },
    {
     "data": {
      "image/png": "[encoded data removed]",
      "text/plain": [
       "<Figure size 455.875x360 with 1 Axes>"
      ]
     },
     "metadata": {},
     "output_type": "display_data"
    }
   ],
   "source": [
    "# Plot the clusters\n",
    "sns.FacetGrid(all_df, hue=\"species\", size=5).map(plt.scatter, \"s_len\", \"s_wid\").add_legend()"
   ]
  },
  {
   "cell_type": "markdown",
   "metadata": {},
   "source": [
    "## 3. How do we evaluate our model?\n",
    "So we've implemented our algorithm - now what do we do with it?\n",
    "\n",
    "How do we know that setting $ k = 2 $ is better than $ k = 5 $? How can we back that up with some proof?"
   ]
  },
  {
   "cell_type": "code",
   "execution_count": 142,
   "metadata": {
    "collapsed": false,
    "scrolled": true
   },
   "outputs": [
    {
     "name": "stdout",
     "output_type": "stream",
     "text": [
      "\n",
      "Avg. silhouette coefficient for k=2: 0.6936772807489379\n",
      "\n",
      "Avg. silhouette coefficient for k=3: 0.5494015416191254\n",
      "\n",
      "Avg. silhouette coefficient for k=4: 0.4930976542740997\n",
      "\n",
      "Avg. silhouette coefficient for k=5: 0.3492692536501152\n",
      "\n",
      "Avg. silhouette coefficient for k=6: 0.3215734972322463\n"
     ]
    }
   ],
   "source": [
    "sil_coefs = list()\n",
    "\n",
    "for cluster_number in [2, 3, 4, 5, 6]:\n",
    "    kmeans = KMeans(n_clusters=cluster_number)\n",
    "    kmeans.train(df=df, verbose=False)\n",
    "    perf = silhouette_coefficient(df=df, clusters=kmeans.clusters, n_clusters=cluster_number)\n",
    "    print(\"\\nAvg. silhouette coefficient for k={}: {}\".format(cluster_number, perf))\n",
    "    sil_coefs.append(perf)"
   ]
  }
 ],
 "metadata": {
  "anaconda-cloud": {},
  "kernelspec": {
   "display_name": "Python [conda env:Python36]",
   "language": "python",
   "name": "conda-env-Python36-py"
  },
  "language_info": {
   "codemirror_mode": {
    "name": "ipython",
    "version": 3
   },
   "file_extension": ".py",
   "mimetype": "text/x-python",
   "name": "python",
   "nbconvert_exporter": "python",
   "pygments_lexer": "ipython3",
   "version": "3.6.4"
  }
 },
 "nbformat": 4,
 "nbformat_minor": 1
}
