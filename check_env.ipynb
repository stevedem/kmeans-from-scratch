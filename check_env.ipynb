{
 "cells": [
  {
   "cell_type": "markdown",
   "metadata": {},
   "source": [
    "# kmeans-from-scratch\n",
    "## Run the cells by clicking \"Cell\" > Run All"
   ]
  },
  {
   "cell_type": "code",
   "execution_count": 2,
   "metadata": {
    "collapsed": false
   },
   "outputs": [
    {
     "name": "stdout",
     "output_type": "stream",
     "text": [
      "Using python in C:\\Users\\m507806\\AppData\\Local\\Continuum\\Anaconda2\\envs\\Python36\n",
      "3.6.4 |Anaconda, Inc.| (default, Jan 16 2018, 10:22:32) [MSC v.1900 64 bit (AMD64)]\n",
      "\n",
      "\u001b[42m[ OK ]\u001b[0m numpy version 1.14.0\n",
      "\u001b[42m[ OK ]\u001b[0m scipy version 1.0.0\n",
      "\u001b[42m[ OK ]\u001b[0m matplotlib version 2.2.2\n",
      "\u001b[42m[ OK ]\u001b[0m sklearn version 0.19.1\n",
      "\u001b[42m[ OK ]\u001b[0m pandas version 0.22.0\n",
      "\u001b[42m[ OK ]\u001b[0m seaborn version 0.8.1\n"
     ]
    }
   ],
   "source": [
    "from __future__ import print_function\n",
    "from distutils.version import LooseVersion as Version\n",
    "import sys\n",
    "\n",
    "OK = '\\x1b[42m[ OK ]\\x1b[0m'\n",
    "FAIL = \"\\x1b[41m[FAIL]\\x1b[0m\"\n",
    "\n",
    "try:\n",
    "    import importlib\n",
    "except ImportError:\n",
    "    print(FAIL, \"Python version 3.6 is required,\"\n",
    "                \" but %s is installed.\" % sys.version)\n",
    "\n",
    "# function for checking import version\n",
    "def import_version(pkg, min_ver, fail_msg=\"\"):\n",
    "    mod = None\n",
    "    try:\n",
    "        mod = importlib.import_module(pkg)\n",
    "        if pkg in {'PIL'}:\n",
    "            ver = mod.VERSION\n",
    "        else:\n",
    "            ver = mod.__version__\n",
    "        if Version(ver) < min_ver:\n",
    "            print(FAIL, \"%s version %s or higher required, but %s installed.\"\n",
    "                  % (lib, min_ver, ver))\n",
    "        else:\n",
    "            print(OK, '%s version %s' % (pkg, ver))\n",
    "    except ImportError:\n",
    "        print(FAIL, '%s not installed. %s' % (pkg, fail_msg))\n",
    "    return mod\n",
    "\n",
    "\n",
    "# first check the python version\n",
    "print('Using python in', sys.prefix)\n",
    "print(sys.version)\n",
    "pyversion = Version(sys.version)\n",
    "if pyversion >= \"3\":\n",
    "    if pyversion < \"3.4\":\n",
    "        print(FAIL, \"Python version 3.4 (or 2.7) is required,\"\n",
    "                    \" but %s is installed.\" % sys.version)\n",
    "elif pyversion >= \"2\":\n",
    "    if pyversion < \"2.7\":\n",
    "        print(FAIL, \"Python version 2.7 is required,\"\n",
    "                    \" but %s is installed.\" % sys.version)\n",
    "else:\n",
    "    print(FAIL, \"Unknown Python version: %s\" % sys.version)\n",
    "\n",
    "\n",
    "print()\n",
    "\n",
    "requirements = {'numpy': \"1.6.1\", 'scipy': \"0.9\", 'matplotlib': \"1.0\",\n",
    "                'sklearn': \"0.18\", 'pandas': \"0.18\", 'seaborn': \"0.8.1\"}\n",
    "\n",
    "# now the dependencies\n",
    "for lib, required_version in list(requirements.items()):\n",
    "    import_version(lib, required_version)\n"
   ]
  }
 ],
 "metadata": {
  "anaconda-cloud": {},
  "kernelspec": {
   "display_name": "Python [conda env:Python36]",
   "language": "python",
   "name": "conda-env-Python36-py"
  },
  "language_info": {
   "codemirror_mode": {
    "name": "ipython",
    "version": 3
   },
   "file_extension": ".py",
   "mimetype": "text/x-python",
   "name": "python",
   "nbconvert_exporter": "python",
   "pygments_lexer": "ipython3",
   "version": "3.6.4"
  }
 },
 "nbformat": 4,
 "nbformat_minor": 0
}
